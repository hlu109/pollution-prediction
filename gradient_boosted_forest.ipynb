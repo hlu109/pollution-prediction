{
  "nbformat": 4,
  "nbformat_minor": 0,
  "metadata": {
    "colab": {
      "name": "gradient_boosted_forest.ipynb",
      "provenance": [],
      "collapsed_sections": [],
      "mount_file_id": "15LRcSBI_mH2z6fXvh3aoxm_bq1UJ7qAS",
      "authorship_tag": "ABX9TyMZf8VHiy6sa7/QyaxTAMDU"
    },
    "kernelspec": {
      "name": "python3",
      "display_name": "Python 3"
    },
    "language_info": {
      "name": "python"
    }
  },
  "cells": [
    {
      "cell_type": "markdown",
      "source": [
        "Examine the performance of gradient-boosted random forests. "
      ],
      "metadata": {
        "id": "y_fX2W4KBc59"
      }
    },
    {
      "cell_type": "code",
      "metadata": {
        "id": "hAzb5gln3MC3"
      },
      "source": [
        "import pandas as pd\n",
        "import matplotlib.pyplot as plt\n",
        "\n",
        "from sklearn.model_selection import train_test_split\n",
        "\n",
        "from sklearn.ensemble import GradientBoostingRegressor\n",
        "from sklearn.model_selection import RandomizedSearchCV\n",
        "from sklearn.metrics import mean_squared_error\n",
        "from sklearn.model_selection import cross_validate\n",
        "import numpy as np\n",
        "\n",
        "from scipy import stats"
      ],
      "execution_count": 1,
      "outputs": []
    },
    {
      "cell_type": "code",
      "metadata": {
        "id": "mLtIK3E93Vpy"
      },
      "source": [
        "TRAIN_DATA_PATH = \"/content/drive/My Drive/cs189 practicum/cs189 code/pollutionTrain.csv\"\n",
        "TEST_DATA_PATH = \"/content/drive/My Drive/cs189 practicum/cs189 code/pollutionTest.csv\""
      ],
      "execution_count": 2,
      "outputs": []
    },
    {
      "cell_type": "markdown",
      "source": [
        "### DATA SETUP"
      ],
      "metadata": {
        "id": "2211SRmuiYsq"
      }
    },
    {
      "cell_type": "code",
      "metadata": {
        "id": "aPAQ_OwP3XHS"
      },
      "source": [
        "trainPD = pd.read_csv(TRAIN_DATA_PATH)\n",
        "testPD = pd.read_csv(TEST_DATA_PATH)\n",
        "\n",
        "trainPD = trainPD.fillna(0)\n",
        "testPD = testPD.fillna(0)"
      ],
      "execution_count": 3,
      "outputs": []
    },
    {
      "cell_type": "code",
      "metadata": {
        "id": "PEHWhN4p3bdZ"
      },
      "source": [
        "label_cols = ['target']\n",
        "\n",
        "# relevant features chosen based on 1) data context and \n",
        "# 2) the SequentialFeatureSelector in regression.ipynb.\n",
        "feature_cols = [\n",
        "                'precipitable_water_entire_atmosphere',\n",
        "                'relative_humidity_2m_above_ground',\n",
        "                'temperature_2m_above_ground',\n",
        "                'u_component_of_wind_10m_above_ground',\n",
        "                'v_component_of_wind_10m_above_ground',\n",
        "                'L3_NO2_NO2_column_number_density',\n",
        "                'L3_NO2_NO2_slant_column_number_density',\n",
        "                'L3_NO2_absorbing_aerosol_index',\n",
        "                'L3_NO2_tropopause_pressure',\n",
        "                'L3_O3_O3_column_number_density',\n",
        "                'L3_CO_CO_column_number_density',\n",
        "                'L3_CO_cloud_height',\n",
        "                'L3_CO_H2O_column_number_density',\n",
        "                'L3_HCHO_tropospheric_HCHO_column_number_density',\n",
        "                'L3_SO2_SO2_column_number_density',\n",
        "]"
      ],
      "execution_count": 4,
      "outputs": []
    },
    {
      "cell_type": "code",
      "metadata": {
        "id": "0q4Us7yY3dtx"
      },
      "source": [
        "# partition features matrix and target matrix \n",
        "X = trainPD[feature_cols]\n",
        "y = trainPD[label_cols]\n",
        "\n",
        "# split training data into training and validation (default 75% and 25% split)\n",
        "Xtrain, Xval, ytrain, yval = train_test_split(X, y, random_state=42)"
      ],
      "execution_count": 5,
      "outputs": []
    },
    {
      "cell_type": "markdown",
      "metadata": {
        "id": "KejXccOd3hD-"
      },
      "source": [
        "# MODEL TRAINING"
      ]
    },
    {
      "cell_type": "code",
      "metadata": {
        "id": "LBpcsvTn3hfJ"
      },
      "source": [
        "def eval_model(model, data):\n",
        "  Xtrain, ytrain, Xval, yval = data\n",
        "  model.fit(Xtrain, ytrain['target'])\n",
        "  # print(type(model.predict(Xval)))\n",
        "  ypred = model.predict(Xval).flatten()\n",
        "  ypred = pd.Series(ypred, name=\"predicted\")\n",
        "  yval_reindexed = yval.reset_index().drop('index', axis=1)\n",
        "  val_performance = pd.concat([yval_reindexed, ypred], axis=1)\n",
        "  val_performance['error']=val_performance['predicted']-val_performance['target']\n",
        "  RMSE = np.sqrt(mean_squared_error(\n",
        "      val_performance['target'], val_performance['predicted']))\n",
        "  \n",
        "  return val_performance, RMSE\n",
        "\n",
        "data = (Xtrain, ytrain, Xval, yval)\n",
        "\n",
        "def visualize_error(model, data):\n",
        "  val_performance, RMSE = eval_model(model, data)\n",
        "\n",
        "  fig = plt.figure(figsize=(6,6))\n",
        "  ax = fig.add_subplot(111)\n",
        "  plt.scatter(x=val_performance['target'], y=val_performance['target'], alpha=0.2)\n",
        "  plt.scatter(x=val_performance['target'], y=val_performance['predicted'], \n",
        "              alpha=0.2, c='orange')\n",
        "  ax.set_aspect('equal')\n",
        "  ax.set_xlabel('true')\n",
        "  ax.set_ylabel('predicted')\n",
        "  ax.legend(['true', 'predicted'])"
      ],
      "execution_count": 6,
      "outputs": []
    },
    {
      "cell_type": "markdown",
      "metadata": {
        "id": "avLJLY_n4u-n"
      },
      "source": [
        "### Initial attempt"
      ]
    },
    {
      "cell_type": "code",
      "metadata": {
        "colab": {
          "base_uri": "https://localhost:8080/",
          "height": 380
        },
        "id": "Q8YkBz1U3kUh",
        "outputId": "54b0b34a-38ef-4b6a-aa34-78d755917982"
      },
      "source": [
        "model = GradientBoostingRegressor(loss='squared_error', learning_rate=0.1, \n",
        "                                  n_estimators=100, subsample=1.0, \n",
        "                                  criterion='friedman_mse')\n",
        "val_performance, RMSE = eval_model(model, data)\n",
        "print('RMSE: ', RMSE)\n",
        "val_performance.head(10)"
      ],
      "execution_count": 7,
      "outputs": [
        {
          "output_type": "stream",
          "name": "stdout",
          "text": [
            "RMSE:  35.213592370287884\n"
          ]
        },
        {
          "output_type": "execute_result",
          "data": {
            "text/html": [
              "\n",
              "  <div id=\"df-25d55d72-35ae-4efc-99ae-ecdfd89b588a\">\n",
              "    <div class=\"colab-df-container\">\n",
              "      <div>\n",
              "<style scoped>\n",
              "    .dataframe tbody tr th:only-of-type {\n",
              "        vertical-align: middle;\n",
              "    }\n",
              "\n",
              "    .dataframe tbody tr th {\n",
              "        vertical-align: top;\n",
              "    }\n",
              "\n",
              "    .dataframe thead th {\n",
              "        text-align: right;\n",
              "    }\n",
              "</style>\n",
              "<table border=\"1\" class=\"dataframe\">\n",
              "  <thead>\n",
              "    <tr style=\"text-align: right;\">\n",
              "      <th></th>\n",
              "      <th>target</th>\n",
              "      <th>predicted</th>\n",
              "      <th>error</th>\n",
              "    </tr>\n",
              "  </thead>\n",
              "  <tbody>\n",
              "    <tr>\n",
              "      <th>0</th>\n",
              "      <td>79.0</td>\n",
              "      <td>71.229535</td>\n",
              "      <td>-7.770465</td>\n",
              "    </tr>\n",
              "    <tr>\n",
              "      <th>1</th>\n",
              "      <td>129.0</td>\n",
              "      <td>88.899205</td>\n",
              "      <td>-40.100795</td>\n",
              "    </tr>\n",
              "    <tr>\n",
              "      <th>2</th>\n",
              "      <td>72.0</td>\n",
              "      <td>47.570878</td>\n",
              "      <td>-24.429122</td>\n",
              "    </tr>\n",
              "    <tr>\n",
              "      <th>3</th>\n",
              "      <td>34.0</td>\n",
              "      <td>87.037874</td>\n",
              "      <td>53.037874</td>\n",
              "    </tr>\n",
              "    <tr>\n",
              "      <th>4</th>\n",
              "      <td>61.0</td>\n",
              "      <td>52.871565</td>\n",
              "      <td>-8.128435</td>\n",
              "    </tr>\n",
              "    <tr>\n",
              "      <th>5</th>\n",
              "      <td>198.0</td>\n",
              "      <td>204.257468</td>\n",
              "      <td>6.257468</td>\n",
              "    </tr>\n",
              "    <tr>\n",
              "      <th>6</th>\n",
              "      <td>26.0</td>\n",
              "      <td>59.409836</td>\n",
              "      <td>33.409836</td>\n",
              "    </tr>\n",
              "    <tr>\n",
              "      <th>7</th>\n",
              "      <td>124.0</td>\n",
              "      <td>64.135357</td>\n",
              "      <td>-59.864643</td>\n",
              "    </tr>\n",
              "    <tr>\n",
              "      <th>8</th>\n",
              "      <td>25.0</td>\n",
              "      <td>57.786984</td>\n",
              "      <td>32.786984</td>\n",
              "    </tr>\n",
              "    <tr>\n",
              "      <th>9</th>\n",
              "      <td>27.0</td>\n",
              "      <td>24.384501</td>\n",
              "      <td>-2.615499</td>\n",
              "    </tr>\n",
              "  </tbody>\n",
              "</table>\n",
              "</div>\n",
              "      <button class=\"colab-df-convert\" onclick=\"convertToInteractive('df-25d55d72-35ae-4efc-99ae-ecdfd89b588a')\"\n",
              "              title=\"Convert this dataframe to an interactive table.\"\n",
              "              style=\"display:none;\">\n",
              "        \n",
              "  <svg xmlns=\"http://www.w3.org/2000/svg\" height=\"24px\"viewBox=\"0 0 24 24\"\n",
              "       width=\"24px\">\n",
              "    <path d=\"M0 0h24v24H0V0z\" fill=\"none\"/>\n",
              "    <path d=\"M18.56 5.44l.94 2.06.94-2.06 2.06-.94-2.06-.94-.94-2.06-.94 2.06-2.06.94zm-11 1L8.5 8.5l.94-2.06 2.06-.94-2.06-.94L8.5 2.5l-.94 2.06-2.06.94zm10 10l.94 2.06.94-2.06 2.06-.94-2.06-.94-.94-2.06-.94 2.06-2.06.94z\"/><path d=\"M17.41 7.96l-1.37-1.37c-.4-.4-.92-.59-1.43-.59-.52 0-1.04.2-1.43.59L10.3 9.45l-7.72 7.72c-.78.78-.78 2.05 0 2.83L4 21.41c.39.39.9.59 1.41.59.51 0 1.02-.2 1.41-.59l7.78-7.78 2.81-2.81c.8-.78.8-2.07 0-2.86zM5.41 20L4 18.59l7.72-7.72 1.47 1.35L5.41 20z\"/>\n",
              "  </svg>\n",
              "      </button>\n",
              "      \n",
              "  <style>\n",
              "    .colab-df-container {\n",
              "      display:flex;\n",
              "      flex-wrap:wrap;\n",
              "      gap: 12px;\n",
              "    }\n",
              "\n",
              "    .colab-df-convert {\n",
              "      background-color: #E8F0FE;\n",
              "      border: none;\n",
              "      border-radius: 50%;\n",
              "      cursor: pointer;\n",
              "      display: none;\n",
              "      fill: #1967D2;\n",
              "      height: 32px;\n",
              "      padding: 0 0 0 0;\n",
              "      width: 32px;\n",
              "    }\n",
              "\n",
              "    .colab-df-convert:hover {\n",
              "      background-color: #E2EBFA;\n",
              "      box-shadow: 0px 1px 2px rgba(60, 64, 67, 0.3), 0px 1px 3px 1px rgba(60, 64, 67, 0.15);\n",
              "      fill: #174EA6;\n",
              "    }\n",
              "\n",
              "    [theme=dark] .colab-df-convert {\n",
              "      background-color: #3B4455;\n",
              "      fill: #D2E3FC;\n",
              "    }\n",
              "\n",
              "    [theme=dark] .colab-df-convert:hover {\n",
              "      background-color: #434B5C;\n",
              "      box-shadow: 0px 1px 3px 1px rgba(0, 0, 0, 0.15);\n",
              "      filter: drop-shadow(0px 1px 2px rgba(0, 0, 0, 0.3));\n",
              "      fill: #FFFFFF;\n",
              "    }\n",
              "  </style>\n",
              "\n",
              "      <script>\n",
              "        const buttonEl =\n",
              "          document.querySelector('#df-25d55d72-35ae-4efc-99ae-ecdfd89b588a button.colab-df-convert');\n",
              "        buttonEl.style.display =\n",
              "          google.colab.kernel.accessAllowed ? 'block' : 'none';\n",
              "\n",
              "        async function convertToInteractive(key) {\n",
              "          const element = document.querySelector('#df-25d55d72-35ae-4efc-99ae-ecdfd89b588a');\n",
              "          const dataTable =\n",
              "            await google.colab.kernel.invokeFunction('convertToInteractive',\n",
              "                                                     [key], {});\n",
              "          if (!dataTable) return;\n",
              "\n",
              "          const docLinkHtml = 'Like what you see? Visit the ' +\n",
              "            '<a target=\"_blank\" href=https://colab.research.google.com/notebooks/data_table.ipynb>data table notebook</a>'\n",
              "            + ' to learn more about interactive tables.';\n",
              "          element.innerHTML = '';\n",
              "          dataTable['output_type'] = 'display_data';\n",
              "          await google.colab.output.renderOutput(dataTable, element);\n",
              "          const docLink = document.createElement('div');\n",
              "          docLink.innerHTML = docLinkHtml;\n",
              "          element.appendChild(docLink);\n",
              "        }\n",
              "      </script>\n",
              "    </div>\n",
              "  </div>\n",
              "  "
            ],
            "text/plain": [
              "   target   predicted      error\n",
              "0    79.0   71.229535  -7.770465\n",
              "1   129.0   88.899205 -40.100795\n",
              "2    72.0   47.570878 -24.429122\n",
              "3    34.0   87.037874  53.037874\n",
              "4    61.0   52.871565  -8.128435\n",
              "5   198.0  204.257468   6.257468\n",
              "6    26.0   59.409836  33.409836\n",
              "7   124.0   64.135357 -59.864643\n",
              "8    25.0   57.786984  32.786984\n",
              "9    27.0   24.384501  -2.615499"
            ]
          },
          "metadata": {},
          "execution_count": 7
        }
      ]
    },
    {
      "cell_type": "code",
      "metadata": {
        "colab": {
          "base_uri": "https://localhost:8080/",
          "height": 388
        },
        "id": "6Gd6J66U4I1G",
        "outputId": "7000bc81-456d-4298-c590-c4f151750146"
      },
      "source": [
        "visualize_error(model, data)"
      ],
      "execution_count": 8,
      "outputs": [
        {
          "output_type": "display_data",
          "data": {
            "image/png": "[encoded data removed]",
            "text/plain": [
              "<Figure size 432x432 with 1 Axes>"
            ]
          },
          "metadata": {
            "needs_background": "light"
          }
        }
      ]
    },
    {
      "cell_type": "markdown",
      "metadata": {
        "id": "aZxHSNSF5fKG"
      },
      "source": [
        "### Hyperparameter tuning"
      ]
    },
    {
      "cell_type": "code",
      "metadata": {
        "id": "KDgepzzd4yeN"
      },
      "source": [
        "param_distributions = {\n",
        "    'learning_rate' : stats.expon(scale=0.5), \n",
        "    'subsample' : stats.uniform(0.5, 0.5), # (lower bound, range)\n",
        "    'criterion' : ['friedman_mse', 'squared_error'], \n",
        "    'max_depth' : stats.randint(2, 8), #important to tune\n",
        "    }\n",
        "\n",
        "search = RandomizedSearchCV(GradientBoostingRegressor(n_estimators=250), \n",
        "                            param_distributions, n_iter=20, cv=5)\n",
        "\n",
        "search.fit(Xtrain, ytrain['target']);"
      ],
      "execution_count": 22,
      "outputs": []
    },
    {
      "cell_type": "code",
      "metadata": {
        "colab": {
          "base_uri": "https://localhost:8080/"
        },
        "id": "S-tzfwQdEMvB",
        "outputId": "37a2ad21-61c9-4b80-fb12-88d4148c1525"
      },
      "source": [
        "search.best_params_"
      ],
      "execution_count": 17,
      "outputs": [
        {
          "output_type": "execute_result",
          "data": {
            "text/plain": [
              "{'criterion': 'squared_error',\n",
              " 'learning_rate': 0.059282826738596174,\n",
              " 'loss': 'squared_error',\n",
              " 'max_depth': 7,\n",
              " 'subsample': 0.9726121953368219}"
            ]
          },
          "metadata": {},
          "execution_count": 17
        }
      ]
    },
    {
      "cell_type": "markdown",
      "metadata": {
        "id": "JbVa7m384zJa"
      },
      "source": [
        "### Cross Validation"
      ]
    },
    {
      "cell_type": "code",
      "metadata": {
        "colab": {
          "base_uri": "https://localhost:8080/"
        },
        "id": "g2tZlv5k4mhw",
        "outputId": "d6b89af3-2413-4035-ea69-f470bcb44e0c"
      },
      "source": [
        "model = GradientBoostingRegressor(loss='squared_error', learning_rate=0.6, \n",
        "                                  n_estimators=250, subsample=1, max_depth=7,\n",
        "                                  criterion='squared_error')\n",
        "\n",
        "scoring = {'negRMSE' : 'neg_root_mean_squared_error',\n",
        "           'R2' : 'r2',\n",
        "           'max_error' : 'max_error'}\n",
        "\n",
        "scores = cross_validate(model, X, y['target'], cv=5, scoring=scoring)\n",
        "\n",
        "print('-RMSE: ', scores['test_negRMSE'])\n",
        "print('R2: ', scores['test_R2'])\n",
        "print('max error: ', scores['test_max_error'])"
      ],
      "execution_count": 26,
      "outputs": [
        {
          "output_type": "stream",
          "name": "stdout",
          "text": [
            "-RMSE:  [-43.0569746  -40.4949696  -41.36364515 -42.76175093 -40.98783753]\n",
            "R2:  [0.17489139 0.07929042 0.03997657 0.3257627  0.26708371]\n",
            "max error:  [-772.02313569 -534.2310329  -452.43087397 -473.46028486 -383.22757388]\n"
          ]
        }
      ]
    }
  ]
}