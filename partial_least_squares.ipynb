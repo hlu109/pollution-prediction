{
  "nbformat": 4,
  "nbformat_minor": 0,
  "metadata": {
    "colab": {
      "name": "partial_least_squares.ipynb",
      "provenance": [],
      "collapsed_sections": [],
      "mount_file_id": "1dC0yE5pVj-r26EO0lt3hDQXW6L7WbQd7",
      "authorship_tag": "ABX9TyNPl+6RhygzONTVvrYkrem2"
    },
    "kernelspec": {
      "name": "python3",
      "display_name": "Python 3"
    },
    "language_info": {
      "name": "python"
    },
    "accelerator": "GPU"
  },
  "cells": [
    {
      "cell_type": "markdown",
      "source": [
        "Examine performance of partial least squares regression."
      ],
      "metadata": {
        "id": "yn3mEJd8xePy"
      }
    },
    {
      "cell_type": "code",
      "metadata": {
        "id": "RxXwWfGrtD2S"
      },
      "source": [
        "import pandas as pd\n",
        "import matplotlib.pyplot as plt\n",
        "\n",
        "from sklearn.model_selection import train_test_split\n",
        "from sklearn.cross_decomposition import PLSRegression\n",
        "\n",
        "from sklearn.model_selection import GridSearchCV\n",
        "from sklearn.metrics import mean_squared_error\n",
        "from sklearn.model_selection import cross_validate\n",
        "import numpy as np\n",
        "\n",
        "from scipy import stats"
      ],
      "execution_count": 12,
      "outputs": []
    },
    {
      "cell_type": "code",
      "metadata": {
        "id": "YRn4x9P1t_kt"
      },
      "source": [
        "TRAIN_DATA_PATH = \"/content/drive/My Drive/cs189 practicum/cs189 code/pollutionTrain.csv\"\n",
        "TEST_DATA_PATH = \"/content/drive/My Drive/cs189 practicum/cs189 code/pollutionTest.csv\""
      ],
      "execution_count": 2,
      "outputs": []
    },
    {
      "cell_type": "markdown",
      "metadata": {
        "id": "vzSLFnxY-tvl"
      },
      "source": [
        "### DATA SETUP"
      ]
    },
    {
      "cell_type": "code",
      "metadata": {
        "id": "OIdJ_ebhv-NV"
      },
      "source": [
        "trainPD = pd.read_csv(TRAIN_DATA_PATH)\n",
        "testPD = pd.read_csv(TEST_DATA_PATH)\n",
        "\n",
        "trainPD = trainPD.fillna(0)\n",
        "testPD = testPD.fillna(0)"
      ],
      "execution_count": 3,
      "outputs": []
    },
    {
      "cell_type": "code",
      "metadata": {
        "id": "tS7QXk6owRNa"
      },
      "source": [
        "label_cols = ['target']\n",
        "\n",
        "# relevant features chosen based on 1) data context and \n",
        "# 2) the SequentialFeatureSelector in regression.ipynb.\n",
        "feature_cols = [\n",
        "                'precipitable_water_entire_atmosphere',\n",
        "                'relative_humidity_2m_above_ground',\n",
        "                'temperature_2m_above_ground',\n",
        "                'u_component_of_wind_10m_above_ground',\n",
        "                'v_component_of_wind_10m_above_ground',\n",
        "                'L3_NO2_NO2_column_number_density',\n",
        "                'L3_NO2_NO2_slant_column_number_density',\n",
        "                'L3_NO2_absorbing_aerosol_index',\n",
        "                'L3_NO2_tropopause_pressure',\n",
        "                'L3_O3_O3_column_number_density',\n",
        "                'L3_CO_CO_column_number_density',\n",
        "                'L3_CO_cloud_height',\n",
        "                'L3_CO_H2O_column_number_density',\n",
        "                'L3_HCHO_tropospheric_HCHO_column_number_density',\n",
        "                'L3_SO2_SO2_column_number_density',\n",
        "]"
      ],
      "execution_count": 4,
      "outputs": []
    },
    {
      "cell_type": "code",
      "metadata": {
        "id": "GyU5-66Txcd6"
      },
      "source": [
        "# partition features matrix and target matrix \n",
        "X = trainPD[feature_cols]\n",
        "y = trainPD[label_cols]\n",
        "\n",
        "# split training data into training and validation (default 75% and 25% split)\n",
        "Xtrain, Xval, ytrain, yval = train_test_split(X, y, random_state=42)"
      ],
      "execution_count": 5,
      "outputs": []
    },
    {
      "cell_type": "markdown",
      "metadata": {
        "id": "cClNDXZ3-w_q"
      },
      "source": [
        "# MODEL TRAINING"
      ]
    },
    {
      "cell_type": "code",
      "metadata": {
        "id": "OtZLnwh2zRGz"
      },
      "source": [
        "def eval_model(model, data):\n",
        "  Xtrain, ytrain, Xval, yval = data\n",
        "  model.fit(Xtrain, ytrain)\n",
        "  # print(type(model.predict(Xval)))\n",
        "  ypred = model.predict(Xval).flatten()\n",
        "  ypred = pd.Series(ypred, name=\"predicted\")\n",
        "  yval_reindexed = yval.reset_index().drop('index', axis=1)\n",
        "  val_performance = pd.concat([yval_reindexed, ypred], axis=1)\n",
        "  val_performance['error']=val_performance['predicted']-val_performance['target']\n",
        "  RMSE = np.sqrt(mean_squared_error(\n",
        "      val_performance['target'], val_performance['predicted']))\n",
        "  \n",
        "  return val_performance, RMSE\n",
        "\n",
        "data = (Xtrain, ytrain, Xval, yval)\n",
        "\n",
        "def visualize_error(model, data):\n",
        "  val_performance, RMSE = eval_model(model, data)\n",
        "\n",
        "  fig = plt.figure(figsize=(6,6))\n",
        "  ax = fig.add_subplot(111)\n",
        "  plt.scatter(x=val_performance['target'], y=val_performance['target'], alpha=0.2)\n",
        "  plt.scatter(x=val_performance['target'], y=val_performance['predicted'], \n",
        "              alpha=0.2, c='orange')\n",
        "  ax.set_aspect('equal')\n",
        "  ax.set_xlabel('true')\n",
        "  ax.set_ylabel('predicted')\n",
        "  ax.legend(['true', 'predicted'])"
      ],
      "execution_count": 6,
      "outputs": []
    },
    {
      "cell_type": "markdown",
      "metadata": {
        "id": "Ltv6Q3goVXy2"
      },
      "source": [
        "## PLS"
      ]
    },
    {
      "cell_type": "code",
      "metadata": {
        "id": "dxqqA9n5wEGC"
      },
      "source": [
        "param_distributions = {'n_components' : range(2, 16)}\n",
        "\n",
        "search = GridSearchCV(PLSRegression(), param_distributions, cv=5)\n",
        "# search = RandomizedSearchCV(PLSRegression(), param_distributions, \n",
        "#                             n_iter=10, cv=5)"
      ],
      "execution_count": 17,
      "outputs": []
    },
    {
      "cell_type": "code",
      "metadata": {
        "id": "qO3Nliobwkvy"
      },
      "source": [
        "search.fit(Xtrain, ytrain['target']);"
      ],
      "execution_count": 18,
      "outputs": []
    },
    {
      "cell_type": "code",
      "metadata": {
        "colab": {
          "base_uri": "https://localhost:8080/"
        },
        "id": "ZWkUGPciwlIN",
        "outputId": "5395de2c-992e-4f26-8c0e-dff27845285d"
      },
      "source": [
        "search.best_params_"
      ],
      "execution_count": 19,
      "outputs": [
        {
          "output_type": "execute_result",
          "data": {
            "text/plain": [
              "{'n_components': 10}"
            ]
          },
          "metadata": {},
          "execution_count": 19
        }
      ]
    },
    {
      "cell_type": "code",
      "metadata": {
        "colab": {
          "base_uri": "https://localhost:8080/"
        },
        "id": "34sA6DaS-Gli",
        "outputId": "e4b0c2ae-58d2-41e2-cac8-73fb712a6d16"
      },
      "source": [
        "model = PLSRegression(n_components=10)\n",
        "\n",
        "scoring = {'negRMSE' : 'neg_root_mean_squared_error',\n",
        "           'R2' : 'r2',\n",
        "           'max_error' : 'max_error'}\n",
        "\n",
        "scores = cross_validate(model, X, y, cv=5, scoring=scoring)\n",
        "\n",
        "print('-RMSE: ', scores['test_negRMSE'])\n",
        "print('R2: ', scores['test_R2'])\n",
        "print('max error: ', scores['test_max_error'])"
      ],
      "execution_count": 21,
      "outputs": [
        {
          "output_type": "stream",
          "name": "stdout",
          "text": [
            "-RMSE:  [-43.46632829 -37.40897935 -36.90327694 -45.04634995 -40.31503817]\n",
            "R2:  [0.15912777 0.214272   0.23585797 0.25179428 0.2909473 ]\n",
            "max error:  [-788.54654925 -473.84397305 -311.32317814 -251.55590273 -420.84802584]\n"
          ]
        }
      ]
    }
  ]
}