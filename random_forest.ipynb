{
  "nbformat": 4,
  "nbformat_minor": 0,
  "metadata": {
    "colab": {
      "name": "random_forest.ipynb",
      "provenance": [],
      "collapsed_sections": [],
      "mount_file_id": "1r1xd9_o_cqyLEUUSiZCDZvA4mVrwCT8Z",
      "authorship_tag": "ABX9TyOPXxMH26dWzbjb3jM8r67p"
    },
    "kernelspec": {
      "display_name": "Python 3",
      "name": "python3"
    },
    "language_info": {
      "name": "python"
    }
  },
  "cells": [
    {
      "cell_type": "markdown",
      "source": [
        "Examine the performance of random forest regression."
      ],
      "metadata": {
        "id": "JX-AlNpnBDkQ"
      }
    },
    {
      "cell_type": "code",
      "metadata": {
        "id": "jrjR3fXh8YBi"
      },
      "source": [
        "import pandas as pd\n",
        "import numpy as np\n",
        "import matplotlib.pyplot as plt\n",
        "\n",
        "from sklearn.model_selection import train_test_split\n",
        "from sklearn.ensemble import RandomForestRegressor\n",
        "\n",
        "from sklearn.metrics import mean_squared_error\n",
        "from sklearn.model_selection import cross_validate"
      ],
      "execution_count": 1,
      "outputs": []
    },
    {
      "cell_type": "code",
      "metadata": {
        "id": "GyyDIP7R806B"
      },
      "source": [
        "TRAIN_DATA_PATH = \"/content/drive/My Drive/cs189 practicum/cs189 code/pollutionTrain.csv\"\n",
        "TEST_DATA_PATH = \"/content/drive/My Drive/cs189 practicum/cs189 code/pollutionTest.csv\""
      ],
      "execution_count": 2,
      "outputs": []
    },
    {
      "cell_type": "markdown",
      "metadata": {
        "id": "AzmcuGQ_9DQu"
      },
      "source": [
        "## DATA SETUP"
      ]
    },
    {
      "cell_type": "code",
      "metadata": {
        "id": "Ui84svWX9AHO"
      },
      "source": [
        "trainPD = pd.read_csv(TRAIN_DATA_PATH)\n",
        "testPD = pd.read_csv(TEST_DATA_PATH)\n",
        "\n",
        "trainPD = trainPD.fillna(0)\n",
        "testPD = testPD.fillna(0)"
      ],
      "execution_count": 3,
      "outputs": []
    },
    {
      "cell_type": "code",
      "metadata": {
        "id": "z7X8OcAT9H67"
      },
      "source": [
        "label_cols = ['target']\n",
        "\n",
        "# relevant features chosen based on 1) data context and \n",
        "# 2) the SequentialFeatureSelector in regression.ipynb\n",
        "feature_cols = [\n",
        "                'precipitable_water_entire_atmosphere',\n",
        "                'relative_humidity_2m_above_ground',\n",
        "                'temperature_2m_above_ground',\n",
        "                'u_component_of_wind_10m_above_ground',\n",
        "                'v_component_of_wind_10m_above_ground',\n",
        "                'L3_NO2_NO2_column_number_density',\n",
        "                'L3_NO2_NO2_slant_column_number_density',\n",
        "                'L3_NO2_absorbing_aerosol_index',\n",
        "                'L3_NO2_tropopause_pressure',\n",
        "                'L3_O3_O3_column_number_density',\n",
        "                'L3_CO_CO_column_number_density',\n",
        "                'L3_CO_cloud_height',\n",
        "                'L3_CO_H2O_column_number_density',\n",
        "                'L3_HCHO_tropospheric_HCHO_column_number_density',\n",
        "                'L3_SO2_SO2_column_number_density',\n",
        "]"
      ],
      "execution_count": 4,
      "outputs": []
    },
    {
      "cell_type": "code",
      "metadata": {
        "id": "Cnzu4_B-9skK"
      },
      "source": [
        "# partition features matrix and target matrix \n",
        "X = trainPD[feature_cols]\n",
        "y = trainPD[label_cols]\n",
        "\n",
        "# split training data into training and validation (default 75% and 25% split)\n",
        "Xtrain, Xval, ytrain, yval = train_test_split(X, y, random_state=42)"
      ],
      "execution_count": 5,
      "outputs": []
    },
    {
      "cell_type": "markdown",
      "metadata": {
        "id": "l0S98UIj9xr5"
      },
      "source": [
        "# MODEL TRAINING"
      ]
    },
    {
      "cell_type": "code",
      "metadata": {
        "id": "xLI9Aq5d9ulj"
      },
      "source": [
        "def eval_model(model, data):\n",
        "  Xtrain, ytrain, Xval, yval = data\n",
        "  model.fit(Xtrain, ytrain['target'])\n",
        "  # print(type(model.predict(Xval)))\n",
        "  ypred = model.predict(Xval).flatten()\n",
        "  ypred = pd.Series(ypred, name=\"predicted\")\n",
        "  yval_reindexed = yval.reset_index().drop('index', axis=1)\n",
        "  val_performance = pd.concat([yval_reindexed, ypred], axis=1)\n",
        "  val_performance['error']=val_performance['predicted']-val_performance['target']\n",
        "  RMSE = np.sqrt(mean_squared_error(\n",
        "      val_performance['target'], val_performance['predicted']))\n",
        "  \n",
        "  return val_performance, RMSE\n",
        "\n",
        "data = (Xtrain, ytrain, Xval, yval)\n",
        "\n",
        "def visualize_error(val_performance):\n",
        "  fig = plt.figure(figsize=(6, 6))\n",
        "  ax = fig.add_subplot(111)\n",
        "  plt.scatter(x=val_performance['target'], y=val_performance['target'], alpha=0.2)\n",
        "  plt.scatter(x=val_performance['target'], y=val_performance['predicted'], \n",
        "              alpha=0.2, c='orange')\n",
        "  ax.set_aspect('equal')\n",
        "  ax.set_xlabel('true')\n",
        "  ax.set_ylabel('predicted')\n",
        "  ax.legend(['true', 'predicted'])"
      ],
      "execution_count": 6,
      "outputs": []
    },
    {
      "cell_type": "code",
      "metadata": {
        "colab": {
          "base_uri": "https://localhost:8080/"
        },
        "id": "fPb8jbEp97rB",
        "outputId": "22d1360e-43f9-4892-e58e-683b449103e8"
      },
      "source": [
        "forest = RandomForestRegressor(n_estimators=150)\n",
        "# using more estimators increases computation time without significantly\n",
        "# improving results\n",
        "\n",
        "scoring = {'negRMSE' : 'neg_root_mean_squared_error',\n",
        "           'R2' : 'r2',\n",
        "           'max_error' : 'max_error'}\n",
        "\n",
        "scores = cross_validate(forest, X, y['target'], cv=5, scoring=scoring)\n",
        "\n",
        "# print(scores.keys())\n",
        "print('-RMSE: ', scores['test_negRMSE'])\n",
        "print('R2: ', scores['test_R2'])\n",
        "print('max error: ', scores['test_max_error'])"
      ],
      "execution_count": 7,
      "outputs": [
        {
          "output_type": "stream",
          "name": "stdout",
          "text": [
            "-RMSE:  [-38.46700853 -33.21448652 -33.12878994 -38.58160197 -36.04148859]\n",
            "R2:  [0.34143154 0.38059373 0.38417776 0.45113906 0.43330445]\n",
            "max error:  [-781.076      -602.58       -291.63333333 -243.06       -391.04666667]\n"
          ]
        }
      ]
    },
    {
      "cell_type": "code",
      "metadata": {
        "id": "SNl0Z56sxcek"
      },
      "source": [
        "val_performance, RMSE = eval_model(forest, data)"
      ],
      "execution_count": 8,
      "outputs": []
    },
    {
      "cell_type": "code",
      "metadata": {
        "id": "UVeib0c1uWQ1",
        "colab": {
          "base_uri": "https://localhost:8080/",
          "height": 388
        },
        "outputId": "4c83eb6a-f5bb-44d3-f4aa-d359f509ed46"
      },
      "source": [
        "visualize_error(val_performance)"
      ],
      "execution_count": 9,
      "outputs": [
        {
          "output_type": "display_data",
          "data": {
            "image/png": "[encoded data removed]",
            "text/plain": [
              "<Figure size 432x432 with 1 Axes>"
            ]
          },
          "metadata": {
            "needs_background": "light"
          }
        }
      ]
    },
    {
      "cell_type": "code",
      "metadata": {
        "id": "JjY5oMJM-fla"
      },
      "source": [
        "# TODO: visualize decision tree classification"
      ],
      "execution_count": 10,
      "outputs": []
    }
  ]
}