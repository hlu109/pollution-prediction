{
  "nbformat": 4,
  "nbformat_minor": 0,
  "metadata": {
    "colab": {
      "name": "regression.ipynb",
      "provenance": [],
      "collapsed_sections": [],
      "mount_file_id": "1rQQayh-Bux4eSbTcLdzVu3XtiPsrrl-W",
      "authorship_tag": "ABX9TyMz6go0ZDCFtbNpc/R/hn55"
    },
    "kernelspec": {
      "name": "python3",
      "display_name": "Python 3"
    },
    "language_info": {
      "name": "python"
    }
  },
  "cells": [
    {
      "cell_type": "markdown",
      "source": [
        "Examines the performance of linear and polynomial regression, and uses SequentialFeatureSelector to determine most important features in the dataset. "
      ],
      "metadata": {
        "id": "tj0DTuFf_Zta"
      }
    },
    {
      "cell_type": "code",
      "metadata": {
        "id": "RxXwWfGrtD2S"
      },
      "source": [
        "import pandas as pd\n",
        "import matplotlib.pyplot as plt\n",
        "\n",
        "from sklearn.model_selection import train_test_split\n",
        "from sklearn.linear_model import LinearRegression\n",
        "\n",
        "from sklearn.preprocessing import PolynomialFeatures\n",
        "from sklearn.feature_selection import SequentialFeatureSelector\n",
        "from sklearn.pipeline import make_pipeline\n",
        "from sklearn.model_selection import GridSearchCV\n",
        "from sklearn.metrics import mean_squared_error\n",
        "from sklearn.model_selection import cross_validate\n",
        "import numpy as np"
      ],
      "execution_count": 1,
      "outputs": []
    },
    {
      "cell_type": "code",
      "metadata": {
        "id": "YRn4x9P1t_kt"
      },
      "source": [
        "TRAIN_DATA_PATH = \"/content/drive/My Drive/cs189 practicum/cs189 code/pollutionTrain.csv\"\n",
        "TEST_DATA_PATH = \"/content/drive/My Drive/cs189 practicum/cs189 code/pollutionTest.csv\""
      ],
      "execution_count": 2,
      "outputs": []
    },
    {
      "cell_type": "markdown",
      "metadata": {
        "id": "vzSLFnxY-tvl"
      },
      "source": [
        "### DATA SETUP"
      ]
    },
    {
      "cell_type": "code",
      "metadata": {
        "id": "OIdJ_ebhv-NV"
      },
      "source": [
        "trainPD = pd.read_csv(TRAIN_DATA_PATH)\n",
        "testPD = pd.read_csv(TEST_DATA_PATH)\n",
        "\n",
        "trainPD = trainPD.fillna(0)\n",
        "testPD = testPD.fillna(0)"
      ],
      "execution_count": 3,
      "outputs": []
    },
    {
      "cell_type": "code",
      "metadata": {
        "id": "tS7QXk6owRNa"
      },
      "source": [
        "label_cols = ['target']\n",
        "\n",
        "# relevant features chosen based on 1) data context and \n",
        "# 2) the SequentialFeatureSelector below.\n",
        "feature_cols = [\n",
        "                'precipitable_water_entire_atmosphere',\n",
        "                'specific_humidity_2m_above_ground',\n",
        "                'temperature_2m_above_ground',\n",
        "                'L3_NO2_NO2_column_number_density',\n",
        "                'L3_O3_O3_column_number_density',\n",
        "                'L3_CO_CO_column_number_density',\n",
        "                'L3_CO_H2O_column_number_density',\n",
        "                'L3_HCHO_tropospheric_HCHO_column_number_density',\n",
        "                'L3_SO2_SO2_column_number_density',\n",
        "]\n",
        "\n",
        "feature_cols_full = [\n",
        "                'precipitable_water_entire_atmosphere',\n",
        "                'relative_humidity_2m_above_ground',\n",
        "                'specific_humidity_2m_above_ground',\n",
        "                'temperature_2m_above_ground',\n",
        "                'u_component_of_wind_10m_above_ground',\n",
        "                'v_component_of_wind_10m_above_ground',\n",
        "                'L3_NO2_NO2_column_number_density',\n",
        "                'L3_NO2_NO2_slant_column_number_density',\n",
        "                'L3_NO2_absorbing_aerosol_index',\n",
        "                'L3_NO2_cloud_fraction',\n",
        "                'L3_NO2_stratospheric_NO2_column_number_density',\n",
        "                'L3_NO2_tropopause_pressure',\n",
        "                'L3_NO2_tropospheric_NO2_column_number_density',\n",
        "                'L3_O3_O3_column_number_density',\n",
        "                'L3_O3_O3_effective_temperature',\n",
        "                'L3_O3_cloud_fraction',\n",
        "                'L3_CO_CO_column_number_density',\n",
        "                'L3_CO_H2O_column_number_density',\n",
        "                'L3_CO_cloud_height',\n",
        "                'L3_HCHO_HCHO_slant_column_number_density',\n",
        "                'L3_HCHO_cloud_fraction',\n",
        "                'L3_HCHO_tropospheric_HCHO_column_number_density',\n",
        "                'L3_HCHO_tropospheric_HCHO_column_number_density_amf',\n",
        "                'L3_CLOUD_cloud_base_height',\n",
        "                'L3_CLOUD_cloud_base_pressure',\n",
        "                'L3_CLOUD_cloud_fraction',\n",
        "                'L3_CLOUD_cloud_optical_depth',\n",
        "                'L3_CLOUD_cloud_top_height',\n",
        "                'L3_CLOUD_cloud_top_pressure',\n",
        "                'L3_CLOUD_surface_albedo',\n",
        "                'L3_AER_AI_absorbing_aerosol_index',\n",
        "                'L3_SO2_SO2_column_number_density',\n",
        "                'L3_SO2_SO2_column_number_density_amf',\n",
        "                'L3_SO2_SO2_slant_column_number_density',\n",
        "                'L3_SO2_absorbing_aerosol_index',\n",
        "                'L3_SO2_cloud_fraction',\n",
        "                'L3_CH4_CH4_column_volume_mixing_ratio_dry_air', # bad data \n",
        "                'L3_CH4_aerosol_height',\n",
        "                'L3_CH4_aerosol_optical_depth'\n",
        "]"
      ],
      "execution_count": 4,
      "outputs": []
    },
    {
      "cell_type": "code",
      "metadata": {
        "id": "GyU5-66Txcd6"
      },
      "source": [
        "# partition features matrix and target matrix \n",
        "X = trainPD[feature_cols]\n",
        "y = trainPD[label_cols]\n",
        "\n",
        "# split training data into training and validation (default 75% and 25% split)\n",
        "Xtrain, Xval, ytrain, yval = train_test_split(X, y, random_state=42)"
      ],
      "execution_count": 5,
      "outputs": []
    },
    {
      "cell_type": "code",
      "metadata": {
        "id": "KQEbN630HQ8k",
        "colab": {
          "base_uri": "https://localhost:8080/",
          "height": 270
        },
        "outputId": "735fe0e3-88a4-4eb4-8746-4c0356adc529"
      },
      "source": [
        "Xtrain.head()"
      ],
      "execution_count": 6,
      "outputs": [
        {
          "output_type": "execute_result",
          "data": {
            "text/html": [
              "\n",
              "  <div id=\"df-e7e3f7fc-f36b-43fe-a2db-25ec10700a2f\">\n",
              "    <div class=\"colab-df-container\">\n",
              "      <div>\n",
              "<style scoped>\n",
              "    .dataframe tbody tr th:only-of-type {\n",
              "        vertical-align: middle;\n",
              "    }\n",
              "\n",
              "    .dataframe tbody tr th {\n",
              "        vertical-align: top;\n",
              "    }\n",
              "\n",
              "    .dataframe thead th {\n",
              "        text-align: right;\n",
              "    }\n",
              "</style>\n",
              "<table border=\"1\" class=\"dataframe\">\n",
              "  <thead>\n",
              "    <tr style=\"text-align: right;\">\n",
              "      <th></th>\n",
              "      <th>precipitable_water_entire_atmosphere</th>\n",
              "      <th>specific_humidity_2m_above_ground</th>\n",
              "      <th>temperature_2m_above_ground</th>\n",
              "      <th>L3_NO2_NO2_column_number_density</th>\n",
              "      <th>L3_O3_O3_column_number_density</th>\n",
              "      <th>L3_CO_CO_column_number_density</th>\n",
              "      <th>L3_CO_H2O_column_number_density</th>\n",
              "      <th>L3_HCHO_tropospheric_HCHO_column_number_density</th>\n",
              "      <th>L3_SO2_SO2_column_number_density</th>\n",
              "    </tr>\n",
              "  </thead>\n",
              "  <tbody>\n",
              "    <tr>\n",
              "      <th>18386</th>\n",
              "      <td>15.500000</td>\n",
              "      <td>0.004229</td>\n",
              "      <td>5.585741</td>\n",
              "      <td>0.000069</td>\n",
              "      <td>0.155608</td>\n",
              "      <td>0.000000</td>\n",
              "      <td>0.000000</td>\n",
              "      <td>0.000000</td>\n",
              "      <td>0.000000</td>\n",
              "    </tr>\n",
              "    <tr>\n",
              "      <th>13906</th>\n",
              "      <td>13.200000</td>\n",
              "      <td>0.005473</td>\n",
              "      <td>10.474451</td>\n",
              "      <td>0.000070</td>\n",
              "      <td>0.134902</td>\n",
              "      <td>0.045020</td>\n",
              "      <td>633.483717</td>\n",
              "      <td>0.000148</td>\n",
              "      <td>-0.000113</td>\n",
              "    </tr>\n",
              "    <tr>\n",
              "      <th>27896</th>\n",
              "      <td>9.108644</td>\n",
              "      <td>0.003550</td>\n",
              "      <td>6.236047</td>\n",
              "      <td>0.000232</td>\n",
              "      <td>0.135133</td>\n",
              "      <td>0.045054</td>\n",
              "      <td>547.282861</td>\n",
              "      <td>0.000106</td>\n",
              "      <td>0.000144</td>\n",
              "    </tr>\n",
              "    <tr>\n",
              "      <th>3463</th>\n",
              "      <td>9.940000</td>\n",
              "      <td>0.003854</td>\n",
              "      <td>8.377051</td>\n",
              "      <td>0.000067</td>\n",
              "      <td>0.111400</td>\n",
              "      <td>0.051573</td>\n",
              "      <td>684.692994</td>\n",
              "      <td>0.000051</td>\n",
              "      <td>0.000627</td>\n",
              "    </tr>\n",
              "    <tr>\n",
              "      <th>6706</th>\n",
              "      <td>14.900001</td>\n",
              "      <td>0.006390</td>\n",
              "      <td>10.458612</td>\n",
              "      <td>0.000099</td>\n",
              "      <td>0.139906</td>\n",
              "      <td>0.030086</td>\n",
              "      <td>1020.602304</td>\n",
              "      <td>0.000107</td>\n",
              "      <td>0.000105</td>\n",
              "    </tr>\n",
              "  </tbody>\n",
              "</table>\n",
              "</div>\n",
              "      <button class=\"colab-df-convert\" onclick=\"convertToInteractive('df-e7e3f7fc-f36b-43fe-a2db-25ec10700a2f')\"\n",
              "              title=\"Convert this dataframe to an interactive table.\"\n",
              "              style=\"display:none;\">\n",
              "        \n",
              "  <svg xmlns=\"http://www.w3.org/2000/svg\" height=\"24px\"viewBox=\"0 0 24 24\"\n",
              "       width=\"24px\">\n",
              "    <path d=\"M0 0h24v24H0V0z\" fill=\"none\"/>\n",
              "    <path d=\"M18.56 5.44l.94 2.06.94-2.06 2.06-.94-2.06-.94-.94-2.06-.94 2.06-2.06.94zm-11 1L8.5 8.5l.94-2.06 2.06-.94-2.06-.94L8.5 2.5l-.94 2.06-2.06.94zm10 10l.94 2.06.94-2.06 2.06-.94-2.06-.94-.94-2.06-.94 2.06-2.06.94z\"/><path d=\"M17.41 7.96l-1.37-1.37c-.4-.4-.92-.59-1.43-.59-.52 0-1.04.2-1.43.59L10.3 9.45l-7.72 7.72c-.78.78-.78 2.05 0 2.83L4 21.41c.39.39.9.59 1.41.59.51 0 1.02-.2 1.41-.59l7.78-7.78 2.81-2.81c.8-.78.8-2.07 0-2.86zM5.41 20L4 18.59l7.72-7.72 1.47 1.35L5.41 20z\"/>\n",
              "  </svg>\n",
              "      </button>\n",
              "      \n",
              "  <style>\n",
              "    .colab-df-container {\n",
              "      display:flex;\n",
              "      flex-wrap:wrap;\n",
              "      gap: 12px;\n",
              "    }\n",
              "\n",
              "    .colab-df-convert {\n",
              "      background-color: #E8F0FE;\n",
              "      border: none;\n",
              "      border-radius: 50%;\n",
              "      cursor: pointer;\n",
              "      display: none;\n",
              "      fill: #1967D2;\n",
              "      height: 32px;\n",
              "      padding: 0 0 0 0;\n",
              "      width: 32px;\n",
              "    }\n",
              "\n",
              "    .colab-df-convert:hover {\n",
              "      background-color: #E2EBFA;\n",
              "      box-shadow: 0px 1px 2px rgba(60, 64, 67, 0.3), 0px 1px 3px 1px rgba(60, 64, 67, 0.15);\n",
              "      fill: #174EA6;\n",
              "    }\n",
              "\n",
              "    [theme=dark] .colab-df-convert {\n",
              "      background-color: #3B4455;\n",
              "      fill: #D2E3FC;\n",
              "    }\n",
              "\n",
              "    [theme=dark] .colab-df-convert:hover {\n",
              "      background-color: #434B5C;\n",
              "      box-shadow: 0px 1px 3px 1px rgba(0, 0, 0, 0.15);\n",
              "      filter: drop-shadow(0px 1px 2px rgba(0, 0, 0, 0.3));\n",
              "      fill: #FFFFFF;\n",
              "    }\n",
              "  </style>\n",
              "\n",
              "      <script>\n",
              "        const buttonEl =\n",
              "          document.querySelector('#df-e7e3f7fc-f36b-43fe-a2db-25ec10700a2f button.colab-df-convert');\n",
              "        buttonEl.style.display =\n",
              "          google.colab.kernel.accessAllowed ? 'block' : 'none';\n",
              "\n",
              "        async function convertToInteractive(key) {\n",
              "          const element = document.querySelector('#df-e7e3f7fc-f36b-43fe-a2db-25ec10700a2f');\n",
              "          const dataTable =\n",
              "            await google.colab.kernel.invokeFunction('convertToInteractive',\n",
              "                                                     [key], {});\n",
              "          if (!dataTable) return;\n",
              "\n",
              "          const docLinkHtml = 'Like what you see? Visit the ' +\n",
              "            '<a target=\"_blank\" href=https://colab.research.google.com/notebooks/data_table.ipynb>data table notebook</a>'\n",
              "            + ' to learn more about interactive tables.';\n",
              "          element.innerHTML = '';\n",
              "          dataTable['output_type'] = 'display_data';\n",
              "          await google.colab.output.renderOutput(dataTable, element);\n",
              "          const docLink = document.createElement('div');\n",
              "          docLink.innerHTML = docLinkHtml;\n",
              "          element.appendChild(docLink);\n",
              "        }\n",
              "      </script>\n",
              "    </div>\n",
              "  </div>\n",
              "  "
            ],
            "text/plain": [
              "       precipitable_water_entire_atmosphere  ...  L3_SO2_SO2_column_number_density\n",
              "18386                             15.500000  ...                          0.000000\n",
              "13906                             13.200000  ...                         -0.000113\n",
              "27896                              9.108644  ...                          0.000144\n",
              "3463                               9.940000  ...                          0.000627\n",
              "6706                              14.900001  ...                          0.000105\n",
              "\n",
              "[5 rows x 9 columns]"
            ]
          },
          "metadata": {},
          "execution_count": 6
        }
      ]
    },
    {
      "cell_type": "markdown",
      "metadata": {
        "id": "cClNDXZ3-w_q"
      },
      "source": [
        "# MODEL TRAINING"
      ]
    },
    {
      "cell_type": "code",
      "metadata": {
        "id": "OtZLnwh2zRGz"
      },
      "source": [
        "def eval_model(model, data):\n",
        "  Xtrain, ytrain, Xval, yval = data\n",
        "  model.fit(Xtrain, ytrain)\n",
        "  # print(type(model.predict(Xval)))\n",
        "  ypred = model.predict(Xval).flatten()\n",
        "  ypred = pd.Series(ypred, name=\"predicted\")\n",
        "  yval_reindexed = yval.reset_index().drop('index', axis=1)\n",
        "  val_performance = pd.concat([yval_reindexed, ypred], axis=1)\n",
        "  val_performance['error']=val_performance['predicted']-val_performance['target']\n",
        "  RMSE = np.sqrt(mean_squared_error(\n",
        "      val_performance['target'], val_performance['predicted']))\n",
        "  \n",
        "  return val_performance, RMSE\n",
        "\n",
        "data = (Xtrain, ytrain, Xval, yval)\n",
        "\n",
        "def visualize_error(model, data):\n",
        "  val_performance, RMSE = eval_model(model, data)\n",
        "\n",
        "  fig = plt.figure(figsize=(6,6))\n",
        "  ax = fig.add_subplot(111)\n",
        "  plt.scatter(x=val_performance['target'], y=val_performance['target'], alpha=0.2)\n",
        "  plt.scatter(x=val_performance['target'], y=val_performance['predicted'], \n",
        "              alpha=0.2, c='orange')\n",
        "  ax.set_aspect('equal')\n",
        "  ax.set_xlabel('true')\n",
        "  ax.set_ylabel('predicted')\n",
        "  ax.legend(['true', 'predicted'])"
      ],
      "execution_count": 7,
      "outputs": []
    },
    {
      "cell_type": "markdown",
      "metadata": {
        "id": "Ltv6Q3goVXy2"
      },
      "source": [
        "## Linear Regression"
      ]
    },
    {
      "cell_type": "code",
      "metadata": {
        "id": "MY5OLqn3N5df",
        "colab": {
          "base_uri": "https://localhost:8080/",
          "height": 380
        },
        "outputId": "0b1e7216-2886-4340-dbd8-ec8302858380"
      },
      "source": [
        "model_linreg = LinearRegression(fit_intercept=True)\n",
        "val_performance_linreg, RMSE_linreg = eval_model(model_linreg, data)\n",
        "print('RMSE: ', RMSE_linreg)\n",
        "val_performance_linreg.head(10)"
      ],
      "execution_count": 10,
      "outputs": [
        {
          "output_type": "stream",
          "name": "stdout",
          "text": [
            "RMSE:  41.06637251644207\n"
          ]
        },
        {
          "output_type": "execute_result",
          "data": {
            "text/html": [
              "\n",
              "  <div id=\"df-acd759e2-ad48-4a3f-a4ec-5d686f4ee121\">\n",
              "    <div class=\"colab-df-container\">\n",
              "      <div>\n",
              "<style scoped>\n",
              "    .dataframe tbody tr th:only-of-type {\n",
              "        vertical-align: middle;\n",
              "    }\n",
              "\n",
              "    .dataframe tbody tr th {\n",
              "        vertical-align: top;\n",
              "    }\n",
              "\n",
              "    .dataframe thead th {\n",
              "        text-align: right;\n",
              "    }\n",
              "</style>\n",
              "<table border=\"1\" class=\"dataframe\">\n",
              "  <thead>\n",
              "    <tr style=\"text-align: right;\">\n",
              "      <th></th>\n",
              "      <th>target</th>\n",
              "      <th>predicted</th>\n",
              "      <th>error</th>\n",
              "    </tr>\n",
              "  </thead>\n",
              "  <tbody>\n",
              "    <tr>\n",
              "      <th>0</th>\n",
              "      <td>79.0</td>\n",
              "      <td>66.733702</td>\n",
              "      <td>-12.266298</td>\n",
              "    </tr>\n",
              "    <tr>\n",
              "      <th>1</th>\n",
              "      <td>129.0</td>\n",
              "      <td>65.419701</td>\n",
              "      <td>-63.580299</td>\n",
              "    </tr>\n",
              "    <tr>\n",
              "      <th>2</th>\n",
              "      <td>72.0</td>\n",
              "      <td>69.786722</td>\n",
              "      <td>-2.213278</td>\n",
              "    </tr>\n",
              "    <tr>\n",
              "      <th>3</th>\n",
              "      <td>34.0</td>\n",
              "      <td>88.354521</td>\n",
              "      <td>54.354521</td>\n",
              "    </tr>\n",
              "    <tr>\n",
              "      <th>4</th>\n",
              "      <td>61.0</td>\n",
              "      <td>52.526785</td>\n",
              "      <td>-8.473215</td>\n",
              "    </tr>\n",
              "    <tr>\n",
              "      <th>5</th>\n",
              "      <td>198.0</td>\n",
              "      <td>148.950805</td>\n",
              "      <td>-49.049195</td>\n",
              "    </tr>\n",
              "    <tr>\n",
              "      <th>6</th>\n",
              "      <td>26.0</td>\n",
              "      <td>57.490589</td>\n",
              "      <td>31.490589</td>\n",
              "    </tr>\n",
              "    <tr>\n",
              "      <th>7</th>\n",
              "      <td>124.0</td>\n",
              "      <td>37.066511</td>\n",
              "      <td>-86.933489</td>\n",
              "    </tr>\n",
              "    <tr>\n",
              "      <th>8</th>\n",
              "      <td>25.0</td>\n",
              "      <td>51.022803</td>\n",
              "      <td>26.022803</td>\n",
              "    </tr>\n",
              "    <tr>\n",
              "      <th>9</th>\n",
              "      <td>27.0</td>\n",
              "      <td>40.005626</td>\n",
              "      <td>13.005626</td>\n",
              "    </tr>\n",
              "  </tbody>\n",
              "</table>\n",
              "</div>\n",
              "      <button class=\"colab-df-convert\" onclick=\"convertToInteractive('df-acd759e2-ad48-4a3f-a4ec-5d686f4ee121')\"\n",
              "              title=\"Convert this dataframe to an interactive table.\"\n",
              "              style=\"display:none;\">\n",
              "        \n",
              "  <svg xmlns=\"http://www.w3.org/2000/svg\" height=\"24px\"viewBox=\"0 0 24 24\"\n",
              "       width=\"24px\">\n",
              "    <path d=\"M0 0h24v24H0V0z\" fill=\"none\"/>\n",
              "    <path d=\"M18.56 5.44l.94 2.06.94-2.06 2.06-.94-2.06-.94-.94-2.06-.94 2.06-2.06.94zm-11 1L8.5 8.5l.94-2.06 2.06-.94-2.06-.94L8.5 2.5l-.94 2.06-2.06.94zm10 10l.94 2.06.94-2.06 2.06-.94-2.06-.94-.94-2.06-.94 2.06-2.06.94z\"/><path d=\"M17.41 7.96l-1.37-1.37c-.4-.4-.92-.59-1.43-.59-.52 0-1.04.2-1.43.59L10.3 9.45l-7.72 7.72c-.78.78-.78 2.05 0 2.83L4 21.41c.39.39.9.59 1.41.59.51 0 1.02-.2 1.41-.59l7.78-7.78 2.81-2.81c.8-.78.8-2.07 0-2.86zM5.41 20L4 18.59l7.72-7.72 1.47 1.35L5.41 20z\"/>\n",
              "  </svg>\n",
              "      </button>\n",
              "      \n",
              "  <style>\n",
              "    .colab-df-container {\n",
              "      display:flex;\n",
              "      flex-wrap:wrap;\n",
              "      gap: 12px;\n",
              "    }\n",
              "\n",
              "    .colab-df-convert {\n",
              "      background-color: #E8F0FE;\n",
              "      border: none;\n",
              "      border-radius: 50%;\n",
              "      cursor: pointer;\n",
              "      display: none;\n",
              "      fill: #1967D2;\n",
              "      height: 32px;\n",
              "      padding: 0 0 0 0;\n",
              "      width: 32px;\n",
              "    }\n",
              "\n",
              "    .colab-df-convert:hover {\n",
              "      background-color: #E2EBFA;\n",
              "      box-shadow: 0px 1px 2px rgba(60, 64, 67, 0.3), 0px 1px 3px 1px rgba(60, 64, 67, 0.15);\n",
              "      fill: #174EA6;\n",
              "    }\n",
              "\n",
              "    [theme=dark] .colab-df-convert {\n",
              "      background-color: #3B4455;\n",
              "      fill: #D2E3FC;\n",
              "    }\n",
              "\n",
              "    [theme=dark] .colab-df-convert:hover {\n",
              "      background-color: #434B5C;\n",
              "      box-shadow: 0px 1px 3px 1px rgba(0, 0, 0, 0.15);\n",
              "      filter: drop-shadow(0px 1px 2px rgba(0, 0, 0, 0.3));\n",
              "      fill: #FFFFFF;\n",
              "    }\n",
              "  </style>\n",
              "\n",
              "      <script>\n",
              "        const buttonEl =\n",
              "          document.querySelector('#df-acd759e2-ad48-4a3f-a4ec-5d686f4ee121 button.colab-df-convert');\n",
              "        buttonEl.style.display =\n",
              "          google.colab.kernel.accessAllowed ? 'block' : 'none';\n",
              "\n",
              "        async function convertToInteractive(key) {\n",
              "          const element = document.querySelector('#df-acd759e2-ad48-4a3f-a4ec-5d686f4ee121');\n",
              "          const dataTable =\n",
              "            await google.colab.kernel.invokeFunction('convertToInteractive',\n",
              "                                                     [key], {});\n",
              "          if (!dataTable) return;\n",
              "\n",
              "          const docLinkHtml = 'Like what you see? Visit the ' +\n",
              "            '<a target=\"_blank\" href=https://colab.research.google.com/notebooks/data_table.ipynb>data table notebook</a>'\n",
              "            + ' to learn more about interactive tables.';\n",
              "          element.innerHTML = '';\n",
              "          dataTable['output_type'] = 'display_data';\n",
              "          await google.colab.output.renderOutput(dataTable, element);\n",
              "          const docLink = document.createElement('div');\n",
              "          docLink.innerHTML = docLinkHtml;\n",
              "          element.appendChild(docLink);\n",
              "        }\n",
              "      </script>\n",
              "    </div>\n",
              "  </div>\n",
              "  "
            ],
            "text/plain": [
              "   target   predicted      error\n",
              "0    79.0   66.733702 -12.266298\n",
              "1   129.0   65.419701 -63.580299\n",
              "2    72.0   69.786722  -2.213278\n",
              "3    34.0   88.354521  54.354521\n",
              "4    61.0   52.526785  -8.473215\n",
              "5   198.0  148.950805 -49.049195\n",
              "6    26.0   57.490589  31.490589\n",
              "7   124.0   37.066511 -86.933489\n",
              "8    25.0   51.022803  26.022803\n",
              "9    27.0   40.005626  13.005626"
            ]
          },
          "metadata": {},
          "execution_count": 10
        }
      ]
    },
    {
      "cell_type": "code",
      "metadata": {
        "id": "qz-hrNHMr7A9",
        "colab": {
          "base_uri": "https://localhost:8080/",
          "height": 388
        },
        "outputId": "45a75cf4-cbd8-4b2d-ebd5-99de9a444b08"
      },
      "source": [
        "visualize_error(model_linreg, data)"
      ],
      "execution_count": 11,
      "outputs": [
        {
          "output_type": "display_data",
          "data": {
            "image/png": "[encoded data removed]",
            "text/plain": [
              "<Figure size 432x432 with 1 Axes>"
            ]
          },
          "metadata": {
            "needs_background": "light"
          }
        }
      ]
    },
    {
      "cell_type": "markdown",
      "metadata": {
        "id": "xg6tIfD7JU9f"
      },
      "source": [
        "## Polynomial Regression with Grid Search"
      ]
    },
    {
      "cell_type": "code",
      "metadata": {
        "id": "O31uq8oeKFVn"
      },
      "source": [
        "def PolynomialRegression(degree=2, **kwargs):\n",
        "  return make_pipeline(PolynomialFeatures(degree), \n",
        "                       LinearRegression(**kwargs))"
      ],
      "execution_count": 12,
      "outputs": []
    },
    {
      "cell_type": "markdown",
      "metadata": {
        "id": "h13npzrxP-nf"
      },
      "source": [
        "### Hyperparameter tuning"
      ]
    },
    {
      "cell_type": "code",
      "metadata": {
        "id": "jAmSfUW8JS7B"
      },
      "source": [
        "param_grid = {'polynomialfeatures__degree': np.arange(1, 4), \n",
        "              'linearregression__fit_intercept': [True, False]}\n",
        "\n",
        "grid = GridSearchCV(PolynomialRegression(), param_grid, cv=5) "
      ],
      "execution_count": 13,
      "outputs": []
    },
    {
      "cell_type": "code",
      "metadata": {
        "id": "h2GvgkBuKtZJ"
      },
      "source": [
        "grid.fit(Xtrain, ytrain);"
      ],
      "execution_count": 14,
      "outputs": []
    },
    {
      "cell_type": "code",
      "metadata": {
        "id": "H2Y1KTo8lzo8",
        "colab": {
          "base_uri": "https://localhost:8080/"
        },
        "outputId": "535ae13f-0659-4446-eb98-a45aad7e82be"
      },
      "source": [
        "grid.best_params_"
      ],
      "execution_count": 15,
      "outputs": [
        {
          "output_type": "execute_result",
          "data": {
            "text/plain": [
              "{'linearregression__fit_intercept': True, 'polynomialfeatures__degree': 2}"
            ]
          },
          "metadata": {},
          "execution_count": 15
        }
      ]
    },
    {
      "cell_type": "code",
      "metadata": {
        "id": "YW1aGqdqcz3W",
        "colab": {
          "base_uri": "https://localhost:8080/"
        },
        "outputId": "f79bf996-2db7-4db9-c6a0-757d61edd5b9"
      },
      "source": [
        "# cross validation\n",
        "\n",
        "model_best = grid.best_estimator_\n",
        "\n",
        "scoring = {'negRMSE' : 'neg_root_mean_squared_error',\n",
        "           'R2' : 'r2',\n",
        "           'max_error' : 'max_error'}\n",
        "\n",
        "scores = cross_validate(model_best, X, y['target'], cv=5, scoring=scoring)\n",
        "\n",
        "print('-RMSE: ', scores['test_negRMSE'])\n",
        "print('R2: ', scores['test_R2'])\n",
        "print('max error: ', scores['test_max_error'])"
      ],
      "execution_count": 16,
      "outputs": [
        {
          "output_type": "stream",
          "name": "stdout",
          "text": [
            "-RMSE:  [-41.42052092 -37.56869547 -36.35159121 -44.42861492 -40.44065113]\n",
            "R2:  [0.23641883 0.20754841 0.25853428 0.27217434 0.28652191]\n",
            "max error:  [-771.92648876 -517.78126069 -309.44694936 -256.04240792 -410.81258882]\n"
          ]
        }
      ]
    },
    {
      "cell_type": "code",
      "metadata": {
        "id": "mRu74nk0uKrs",
        "colab": {
          "base_uri": "https://localhost:8080/",
          "height": 388
        },
        "outputId": "39ec62d3-b18e-4f8f-f0fc-2c6a377f5c66"
      },
      "source": [
        "visualize_error(model_best, data)"
      ],
      "execution_count": 17,
      "outputs": [
        {
          "output_type": "display_data",
          "data": {
            "image/png": "[encoded data removed]",
            "text/plain": [
              "<Figure size 432x432 with 1 Axes>"
            ]
          },
          "metadata": {
            "needs_background": "light"
          }
        }
      ]
    },
    {
      "cell_type": "markdown",
      "metadata": {
        "id": "t5NKrXFqPwPt"
      },
      "source": [
        "## Feature Selection"
      ]
    },
    {
      "cell_type": "code",
      "metadata": {
        "id": "RwhAj6MBI2Z6"
      },
      "source": [
        "X_full = trainPD[feature_cols_full]"
      ],
      "execution_count": 18,
      "outputs": []
    },
    {
      "cell_type": "code",
      "metadata": {
        "id": "UjKrta-bW3XH",
        "colab": {
          "base_uri": "https://localhost:8080/"
        },
        "outputId": "54bcb075-3a80-4cc2-cd4a-9bf4a7635e99"
      },
      "source": [
        "sfs_forward = SequentialFeatureSelector(model_best, n_features_to_select=11,\n",
        "                                        direction='forward')\n",
        "sfs_forward.fit(X_full, y)"
      ],
      "execution_count": 21,
      "outputs": [
        {
          "output_type": "execute_result",
          "data": {
            "text/plain": [
              "SequentialFeatureSelector(estimator=Pipeline(steps=[('polynomialfeatures',\n",
              "                                                     PolynomialFeatures()),\n",
              "                                                    ('linearregression',\n",
              "                                                     LinearRegression())]),\n",
              "                          n_features_to_select=11)"
            ]
          },
          "metadata": {},
          "execution_count": 21
        }
      ]
    },
    {
      "cell_type": "code",
      "metadata": {
        "id": "WIBcMEA4I_Gb",
        "colab": {
          "base_uri": "https://localhost:8080/"
        },
        "outputId": "edd3fb77-7a7e-45ed-b966-a9d1d0e69804"
      },
      "source": [
        "print('forward features:')\n",
        "for i in range(len(feature_cols_full)):\n",
        "  if sfs_forward.get_support()[i]:\n",
        "    print(feature_cols_full[i])"
      ],
      "execution_count": 22,
      "outputs": [
        {
          "output_type": "stream",
          "name": "stdout",
          "text": [
            "forward features:\n",
            "relative_humidity_2m_above_ground\n",
            "temperature_2m_above_ground\n",
            "u_component_of_wind_10m_above_ground\n",
            "v_component_of_wind_10m_above_ground\n",
            "L3_NO2_NO2_column_number_density\n",
            "L3_NO2_NO2_slant_column_number_density\n",
            "L3_NO2_absorbing_aerosol_index\n",
            "L3_NO2_tropopause_pressure\n",
            "L3_CO_CO_column_number_density\n",
            "L3_CO_cloud_height\n",
            "L3_HCHO_tropospheric_HCHO_column_number_density\n"
          ]
        }
      ]
    },
    {
      "cell_type": "markdown",
      "source": [
        "backwards feature selection was aborted as it takes significantly longer to compute than forward feature selection. "
      ],
      "metadata": {
        "id": "wOqZUsm5-WjW"
      }
    }
  ]
}